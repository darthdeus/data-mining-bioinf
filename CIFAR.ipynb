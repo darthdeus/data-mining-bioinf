{
 "cells": [
  {
   "cell_type": "code",
   "execution_count": 1,
   "metadata": {},
   "outputs": [
    {
     "name": "stderr",
     "output_type": "stream",
     "text": [
      "Using TensorFlow backend.\n"
     ]
    }
   ],
   "source": [
    "%matplotlib inline\n",
    "import tensorflow as tf\n",
    "import numpy as np\n",
    "import matplotlib.pyplot as plt\n",
    "import pandas as pd\n",
    "\n",
    "import keras\n",
    "from keras.layers import Dense, Dropout, Flatten\n",
    "from keras.layers.convolutional import Conv2D, MaxPooling2D\n",
    "from keras.models import Sequential"
   ]
  },
  {
   "cell_type": "code",
   "execution_count": 2,
   "metadata": {
    "collapsed": true
   },
   "outputs": [],
   "source": [
    "(X_train, y_train), (X_test, y_test) = keras.datasets.cifar10.load_data()"
   ]
  },
  {
   "cell_type": "code",
   "execution_count": 3,
   "metadata": {
    "collapsed": true
   },
   "outputs": [],
   "source": [
    "X_train = X_train.astype(np.float32) / 255\n",
    "X_test = X_test.astype(np.float32) / 255"
   ]
  },
  {
   "cell_type": "code",
   "execution_count": 6,
   "metadata": {},
   "outputs": [
    {
     "name": "stdout",
     "output_type": "stream",
     "text": [
      "_________________________________________________________________\n",
      "Layer (type)                 Output Shape              Param #   \n",
      "=================================================================\n",
      "conv2d_5 (Conv2D)            (None, 32, 32, 32)        896       \n",
      "_________________________________________________________________\n",
      "conv2d_6 (Conv2D)            (None, 32, 32, 32)        9248      \n",
      "_________________________________________________________________\n",
      "max_pooling2d_3 (MaxPooling2 (None, 16, 16, 32)        0         \n",
      "_________________________________________________________________\n",
      "conv2d_7 (Conv2D)            (None, 16, 16, 64)        18496     \n",
      "_________________________________________________________________\n",
      "max_pooling2d_4 (MaxPooling2 (None, 8, 8, 64)          0         \n",
      "_________________________________________________________________\n",
      "flatten_2 (Flatten)          (None, 4096)              0         \n",
      "_________________________________________________________________\n",
      "dense_5 (Dense)              (None, 512)               2097664   \n",
      "_________________________________________________________________\n",
      "dense_6 (Dense)              (None, 512)               262656    \n",
      "_________________________________________________________________\n",
      "dense_7 (Dense)              (None, 512)               262656    \n",
      "_________________________________________________________________\n",
      "dense_8 (Dense)              (None, 10)                5130      \n",
      "=================================================================\n",
      "Total params: 2,656,746\n",
      "Trainable params: 2,656,746\n",
      "Non-trainable params: 0\n",
      "_________________________________________________________________\n"
     ]
    }
   ],
   "source": [
    "model = Sequential([\n",
    "    Conv2D(32, (3,3), padding=\"same\", activation=\"relu\", input_shape=(32, 32, 3)),\n",
    "    Conv2D(32, (3,3), padding=\"same\", activation=\"relu\"),\n",
    "    MaxPooling2D(),\n",
    "    Conv2D(64, (3,3), padding=\"same\", activation=\"relu\"),\n",
    "    MaxPooling2D(),\n",
    "    \n",
    "    Flatten(),\n",
    "    \n",
    "    Dense(512, activation=\"relu\"),\n",
    "    Dense(512, activation=\"relu\"),\n",
    "    Dense(512, activation=\"relu\"),\n",
    "    Dense(10, activation=\"softmax\")\n",
    "])\n",
    "\n",
    "model.compile(\"adam\", \"categorical_crossentropy\", metrics=[\"accuracy\"])\n",
    "model.summary()"
   ]
  },
  {
   "cell_type": "code",
   "execution_count": 47,
   "metadata": {},
   "outputs": [
    {
     "name": "stdout",
     "output_type": "stream",
     "text": [
      "Train on 40000 samples, validate on 10000 samples\n",
      "Epoch 1/10\n",
      "40000/40000 [==============================] - 6s 155us/step - loss: 1.5084 - acc: 0.4438 - val_loss: 1.1877 - val_acc: 0.5794\n",
      "Epoch 2/10\n",
      "40000/40000 [==============================] - 5s 136us/step - loss: 1.0188 - acc: 0.6377 - val_loss: 0.9829 - val_acc: 0.6614\n",
      "Epoch 3/10\n",
      "40000/40000 [==============================] - 5s 136us/step - loss: 0.8018 - acc: 0.7178 - val_loss: 0.8649 - val_acc: 0.6963\n",
      "Epoch 4/10\n",
      "40000/40000 [==============================] - 5s 135us/step - loss: 0.6320 - acc: 0.7787 - val_loss: 0.8707 - val_acc: 0.7094\n",
      "Epoch 5/10\n",
      "40000/40000 [==============================] - 5s 136us/step - loss: 0.4787 - acc: 0.8312 - val_loss: 0.8754 - val_acc: 0.7282\n",
      "Epoch 6/10\n",
      "40000/40000 [==============================] - 5s 136us/step - loss: 0.3257 - acc: 0.8856 - val_loss: 0.9818 - val_acc: 0.7094\n",
      "Epoch 7/10\n",
      "40000/40000 [==============================] - 5s 135us/step - loss: 0.2244 - acc: 0.9216 - val_loss: 1.1243 - val_acc: 0.7155\n",
      "Epoch 8/10\n",
      "40000/40000 [==============================] - 5s 136us/step - loss: 0.1551 - acc: 0.9468 - val_loss: 1.2551 - val_acc: 0.7117\n",
      "Epoch 9/10\n",
      "40000/40000 [==============================] - 5s 137us/step - loss: 0.1160 - acc: 0.9593 - val_loss: 1.4598 - val_acc: 0.7030\n",
      "Epoch 10/10\n",
      "40000/40000 [==============================] - 5s 137us/step - loss: 0.0872 - acc: 0.9702 - val_loss: 1.5261 - val_acc: 0.7067\n"
     ]
    },
    {
     "data": {
      "text/plain": [
       "<keras.callbacks.History at 0x19ad6441ba8>"
      ]
     },
     "execution_count": 47,
     "metadata": {},
     "output_type": "execute_result"
    }
   ],
   "source": [
    "model.fit(X_train, keras.utils.to_categorical(y_train), validation_split=0.2, batch_size=128, epochs=10)"
   ]
  },
  {
   "cell_type": "code",
   "execution_count": 54,
   "metadata": {},
   "outputs": [
    {
     "name": "stdout",
     "output_type": "stream",
     "text": [
      "_________________________________________________________________\n",
      "Layer (type)                 Output Shape              Param #   \n",
      "=================================================================\n",
      "flatten_13 (Flatten)         (None, 3072)              0         \n",
      "_________________________________________________________________\n",
      "dense_53 (Dense)             (None, 64)                196672    \n",
      "_________________________________________________________________\n",
      "dense_54 (Dense)             (None, 64)                4160      \n",
      "_________________________________________________________________\n",
      "dense_55 (Dense)             (None, 64)                4160      \n",
      "_________________________________________________________________\n",
      "dense_56 (Dense)             (None, 10)                650       \n",
      "=================================================================\n",
      "Total params: 205,642\n",
      "Trainable params: 205,642\n",
      "Non-trainable params: 0\n",
      "_________________________________________________________________\n"
     ]
    }
   ],
   "source": [
    "small = Sequential([\n",
    "    Flatten(input_shape=(32, 32, 3)),\n",
    "    \n",
    "    Dense(64, activation=\"relu\"),\n",
    "    Dense(64, activation=\"relu\"),\n",
    "    Dense(64, activation=\"relu\"),\n",
    "    Dense(10, activation=\"softmax\")\n",
    "])\n",
    "\n",
    "small.compile(\"adam\", \"categorical_crossentropy\", metrics=[\"accuracy\"])\n",
    "small.summary()"
   ]
  },
  {
   "cell_type": "code",
   "execution_count": 59,
   "metadata": {},
   "outputs": [
    {
     "name": "stdout",
     "output_type": "stream",
     "text": [
      "Train on 40000 samples, validate on 10000 samples\n",
      "Epoch 1/10\n",
      "40000/40000 [==============================] - 1s 29us/step - loss: 1.4305 - acc: 0.4836 - val_loss: 1.4938 - val_acc: 0.4665\n",
      "Epoch 2/10\n",
      "40000/40000 [==============================] - 1s 29us/step - loss: 1.3654 - acc: 0.5091 - val_loss: 1.4706 - val_acc: 0.4786\n",
      "Epoch 3/10\n",
      "40000/40000 [==============================] - 1s 29us/step - loss: 1.3458 - acc: 0.5185 - val_loss: 1.4650 - val_acc: 0.4797\n",
      "Epoch 4/10\n",
      "40000/40000 [==============================] - 1s 29us/step - loss: 1.3360 - acc: 0.5201 - val_loss: 1.4609 - val_acc: 0.4823\n",
      "Epoch 5/10\n",
      "40000/40000 [==============================] - 1s 29us/step - loss: 1.3299 - acc: 0.5232 - val_loss: 1.4566 - val_acc: 0.4862\n",
      "Epoch 6/10\n",
      "40000/40000 [==============================] - 1s 29us/step - loss: 1.3241 - acc: 0.5252 - val_loss: 1.4536 - val_acc: 0.4854\n",
      "Epoch 7/10\n",
      "40000/40000 [==============================] - 1s 30us/step - loss: 1.3196 - acc: 0.5272 - val_loss: 1.4569 - val_acc: 0.4866\n",
      "Epoch 8/10\n",
      "40000/40000 [==============================] - 1s 30us/step - loss: 1.3158 - acc: 0.5276 - val_loss: 1.4510 - val_acc: 0.4887\n",
      "Epoch 9/10\n",
      "40000/40000 [==============================] - 1s 29us/step - loss: 1.3125 - acc: 0.5294 - val_loss: 1.4513 - val_acc: 0.4898\n",
      "Epoch 10/10\n",
      "40000/40000 [==============================] - 1s 29us/step - loss: 1.3095 - acc: 0.5303 - val_loss: 1.4491 - val_acc: 0.4916\n"
     ]
    },
    {
     "data": {
      "text/plain": [
       "<keras.callbacks.History at 0x19d366e0fd0>"
      ]
     },
     "execution_count": 59,
     "metadata": {},
     "output_type": "execute_result"
    }
   ],
   "source": [
    "small.fit(X_train, keras.utils.to_categorical(y_train), validation_split=0.2, batch_size=2048, epochs=10)"
   ]
  },
  {
   "cell_type": "code",
   "execution_count": null,
   "metadata": {
    "collapsed": true
   },
   "outputs": [],
   "source": []
  }
 ],
 "metadata": {
  "kernelspec": {
   "display_name": "Python 3",
   "language": "python",
   "name": "python3"
  },
  "language_info": {
   "codemirror_mode": {
    "name": "ipython",
    "version": 3
   },
   "file_extension": ".py",
   "mimetype": "text/x-python",
   "name": "python",
   "nbconvert_exporter": "python",
   "pygments_lexer": "ipython3",
   "version": "3.6.3"
  }
 },
 "nbformat": 4,
 "nbformat_minor": 2
}
