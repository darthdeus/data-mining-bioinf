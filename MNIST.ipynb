{
 "cells": [
  {
   "cell_type": "code",
   "execution_count": 1,
   "metadata": {
    "collapsed": true
   },
   "outputs": [],
   "source": [
    "import numpy as np\n",
    "%matplotlib inline\n",
    "import matplotlib.pyplot as plt\n",
    "\n",
    "import sklearn\n",
    "from sklearn import datasets"
   ]
  },
  {
   "cell_type": "code",
   "execution_count": 2,
   "metadata": {
    "collapsed": true
   },
   "outputs": [],
   "source": [
    "mnist = datasets.load_digits()"
   ]
  },
  {
   "cell_type": "code",
   "execution_count": 3,
   "metadata": {
    "collapsed": true
   },
   "outputs": [],
   "source": [
    "X, y = mnist.data, mnist.target"
   ]
  },
  {
   "cell_type": "code",
   "execution_count": 34,
   "metadata": {},
   "outputs": [
    {
     "data": {
      "image/png": "[encoded data removed]",
      "text/plain": [
       "<matplotlib.figure.Figure at 0x1cb76d0c048>"
      ]
     },
     "metadata": {},
     "output_type": "display_data"
    }
   ],
   "source": [
    "cnt = 1\n",
    "for i in range(1, 4):\n",
    "    for j in range(1, 4):\n",
    "        plt.subplot(3, 3, cnt)\n",
    "        cnt += 1\n",
    "        plt.imshow(X[np.random.randint(0, len(X))].reshape(8, 8), cmap=\"gray\")"
   ]
  },
  {
   "cell_type": "code",
   "execution_count": 4,
   "metadata": {
    "collapsed": true
   },
   "outputs": [],
   "source": [
    "import sklearn.linear_model\n",
    "import sklearn.ensemble\n",
    "import sklearn.preprocessing\n",
    "import sklearn.neighbors\n",
    "import sklearn.metrics\n",
    "import sklearn.neural_network\n",
    "\n",
    "from sklearn.metrics import mean_squared_error\n",
    "from sklearn.model_selection import train_test_split"
   ]
  },
  {
   "cell_type": "code",
   "execution_count": 60,
   "metadata": {
    "collapsed": true
   },
   "outputs": [],
   "source": [
    "X_train, X_test, y_train, y_test = train_test_split(X, y, test_size=0.2)"
   ]
  },
  {
   "cell_type": "code",
   "execution_count": 61,
   "metadata": {
    "collapsed": true
   },
   "outputs": [],
   "source": [
    "def eval_regression(model):\n",
    "    model.fit(X_train, y_train)\n",
    "    y_pred = model.predict(X_test)\n",
    "    return mean_squared_error(y_test, y_pred)"
   ]
  },
  {
   "cell_type": "code",
   "execution_count": 121,
   "metadata": {},
   "outputs": [
    {
     "name": "stdout",
     "output_type": "stream",
     "text": [
      "3.91532883623\n",
      "1.0305\n",
      "1.16666666667\n"
     ]
    },
    {
     "name": "stderr",
     "output_type": "stream",
     "text": [
      "C:\\dev\\Anaconda3\\lib\\site-packages\\sklearn\\linear_model\\stochastic_gradient.py:128: FutureWarning: max_iter and tol parameters have been added in <class 'sklearn.linear_model.stochastic_gradient.SGDClassifier'> in 0.19. If both are left unset, they default to max_iter=5 and tol=None. If tol is not None, max_iter defaults to max_iter=1000. From 0.21, default max_iter will be 1000, and default tol will be 1e-3.\n",
      "  \"and default tol will be 1e-3.\" % type(self), FutureWarning)\n"
     ]
    }
   ],
   "source": [
    "print(eval_regression(sklearn.linear_model.LinearRegression()))\n",
    "print(eval_regression(sklearn.ensemble.RandomForestRegressor()))\n",
    "print(eval_regression(sklearn.linear_model.SGDClassifier()))"
   ]
  },
  {
   "cell_type": "code",
   "execution_count": 63,
   "metadata": {
    "collapsed": true
   },
   "outputs": [],
   "source": [
    "scaler = sklearn.preprocessing.StandardScaler()"
   ]
  },
  {
   "cell_type": "code",
   "execution_count": 64,
   "metadata": {},
   "outputs": [
    {
     "data": {
      "text/plain": [
       "StandardScaler(copy=True, with_mean=True, with_std=True)"
      ]
     },
     "execution_count": 64,
     "metadata": {},
     "output_type": "execute_result"
    }
   ],
   "source": [
    "scaler.fit(X_train)"
   ]
  },
  {
   "cell_type": "code",
   "execution_count": 65,
   "metadata": {
    "collapsed": true
   },
   "outputs": [],
   "source": [
    "class Scaler:\n",
    "    def fit(data):\n",
    "        self.mean = np.mean(data)\n",
    "        self.std = np.std(data)\n",
    "        \n",
    "    def transform(data):\n",
    "        return (data - self.mean) / self.std"
   ]
  },
  {
   "cell_type": "code",
   "execution_count": 68,
   "metadata": {
    "collapsed": true
   },
   "outputs": [],
   "source": [
    "knn = sklearn.neighbors.KNeighborsClassifier()"
   ]
  },
  {
   "cell_type": "code",
   "execution_count": 69,
   "metadata": {},
   "outputs": [
    {
     "data": {
      "text/plain": [
       "KNeighborsClassifier(algorithm='auto', leaf_size=30, metric='minkowski',\n",
       "           metric_params=None, n_jobs=1, n_neighbors=5, p=2,\n",
       "           weights='uniform')"
      ]
     },
     "execution_count": 69,
     "metadata": {},
     "output_type": "execute_result"
    }
   ],
   "source": [
    "knn.fit(X_train, y_train)"
   ]
  },
  {
   "cell_type": "code",
   "execution_count": 73,
   "metadata": {},
   "outputs": [
    {
     "data": {
      "text/plain": [
       "array([1, 5, 3, 5, 9, 9, 9, 5, 0, 9, 2, 3, 1, 2, 0, 9, 6, 0, 6, 5, 0, 3, 2,\n",
       "       8, 0, 3, 2, 0, 4, 9, 4, 5, 3, 0, 0, 2, 6, 3, 6, 0, 5, 6, 4, 2, 5, 1,\n",
       "       7, 1, 4, 5, 7, 1, 1, 0, 6, 5, 5, 4, 2, 4, 6, 4, 5, 8, 6, 1, 5, 4, 7,\n",
       "       0, 3, 1, 5, 7, 1, 1, 1, 8, 1, 0, 1, 9, 8, 0, 4, 9, 3, 5, 2, 6, 4, 5,\n",
       "       8, 9, 2, 7, 7, 2, 9, 5, 7, 4, 4, 1, 8, 1, 7, 5, 2, 0, 3, 8, 8, 4, 6,\n",
       "       8, 6, 7, 9, 5, 0, 4, 4, 6, 2, 7, 0, 6, 4, 3, 8, 0, 7, 2, 6, 9, 2, 1,\n",
       "       4, 6, 2, 3, 5, 0, 8, 3, 9, 7, 1, 7, 7, 9, 0, 5, 3, 9, 6, 0, 7, 8, 9,\n",
       "       5, 0, 0, 3, 6, 7, 4, 8, 9, 5, 2, 1, 7, 2, 5, 6, 3, 2, 6, 3, 5, 9, 8,\n",
       "       0, 8, 5, 9, 5, 2, 3, 2, 9, 4, 0, 7, 0, 3, 6, 6, 2, 7, 7, 1, 9, 2, 6,\n",
       "       8, 6, 1, 3, 9, 2, 1, 2, 1, 7, 8, 0, 6, 6, 6, 3, 0, 9, 9, 8, 1, 0, 2,\n",
       "       4, 5, 3, 2, 3, 7, 9, 1, 0, 0, 5, 7, 6, 7, 3, 3, 1, 6, 6, 1, 5, 2, 1,\n",
       "       5, 0, 8, 6, 3, 6, 7, 0, 9, 4, 7, 6, 2, 7, 3, 0, 3, 0, 8, 5, 1, 0, 3,\n",
       "       8, 1, 1, 2, 1, 4, 6, 8, 4, 7, 5, 4, 4, 2, 6, 2, 5, 0, 8, 7, 0, 4, 1,\n",
       "       1, 4, 8, 7, 1, 7, 5, 9, 8, 8, 7, 4, 5, 2, 1, 3, 9, 3, 0, 8, 7, 6, 9,\n",
       "       9, 4, 3, 9, 3, 0, 4, 2, 4, 8, 0, 1, 0, 3, 3, 9, 0, 5, 2, 7, 1, 6, 9,\n",
       "       6, 7, 4, 7, 2, 3, 1, 9, 0, 4, 6, 0, 0, 4, 0])"
      ]
     },
     "execution_count": 73,
     "metadata": {},
     "output_type": "execute_result"
    }
   ],
   "source": [
    "knn.predict(X_test)"
   ]
  },
  {
   "cell_type": "code",
   "execution_count": 78,
   "metadata": {},
   "outputs": [
    {
     "data": {
      "text/plain": [
       "<matplotlib.image.AxesImage at 0x1cb76804a20>"
      ]
     },
     "execution_count": 78,
     "metadata": {},
     "output_type": "execute_result"
    },
    {
     "data": {
      "image/png": "[encoded data removed]",
      "text/plain": [
       "<matplotlib.figure.Figure at 0x1cb76763c50>"
      ]
     },
     "metadata": {},
     "output_type": "display_data"
    }
   ],
   "source": [
    "plt.imshow(X_test[2].reshape(8, 8))"
   ]
  },
  {
   "cell_type": "code",
   "execution_count": 79,
   "metadata": {},
   "outputs": [
    {
     "data": {
      "text/plain": [
       "array([  0.,   0.,   1.,  12.,  10.,   3.,   0.,   0.,   0.,   0.,   7.,\n",
       "        16.,  16.,   7.,   0.,   0.,   0.,   0.,  12.,  16.,  16.,   3.,\n",
       "         0.,   0.,   0.,   0.,  14.,  16.,  16.,   2.,   0.,   0.,   0.,\n",
       "         1.,  15.,  16.,  16.,   5.,   0.,   0.,   0.,   0.,  15.,  16.,\n",
       "        15.,   2.,   0.,   0.,   0.,   0.,  11.,  16.,  16.,   8.,   0.,\n",
       "         0.,   0.,   0.,   1.,   7.,  12.,  10.,   0.,   0.])"
      ]
     },
     "execution_count": 79,
     "metadata": {},
     "output_type": "execute_result"
    }
   ],
   "source": [
    "X_test[0]"
   ]
  },
  {
   "cell_type": "code",
   "execution_count": 88,
   "metadata": {},
   "outputs": [
    {
     "data": {
      "text/plain": [
       "3"
      ]
     },
     "execution_count": 88,
     "metadata": {},
     "output_type": "execute_result"
    }
   ],
   "source": [
    "y_train[np.argmin(np.linalg.norm(X_train - X_test[2], axis=1))]"
   ]
  },
  {
   "cell_type": "code",
   "execution_count": 92,
   "metadata": {},
   "outputs": [
    {
     "data": {
      "text/plain": [
       "0.99444444444444446"
      ]
     },
     "execution_count": 92,
     "metadata": {},
     "output_type": "execute_result"
    }
   ],
   "source": [
    "sklearn.metrics.accuracy_score(y_test, knn.predict(X_test))"
   ]
  },
  {
   "cell_type": "code",
   "execution_count": null,
   "metadata": {
    "collapsed": true
   },
   "outputs": [],
   "source": [
    "sklearn.linear_model.LogisticRegression()"
   ]
  },
  {
   "cell_type": "code",
   "execution_count": 93,
   "metadata": {
    "collapsed": true
   },
   "outputs": [],
   "source": [
    "def eval_classification(model):\n",
    "    model.fit(X_train, y_train)\n",
    "    y_pred = model.predict(X_test)\n",
    "    return sklearn.metrics.accuracy_score(y_test, y_pred)"
   ]
  },
  {
   "cell_type": "code",
   "execution_count": 111,
   "metadata": {},
   "outputs": [
    {
     "data": {
      "text/plain": [
       "0.95833333333333337"
      ]
     },
     "execution_count": 111,
     "metadata": {},
     "output_type": "execute_result"
    }
   ],
   "source": [
    "logreg = sklearn.linear_model.LogisticRegression()\n",
    "eval_classification(logreg)"
   ]
  },
  {
   "cell_type": "code",
   "execution_count": 95,
   "metadata": {},
   "outputs": [
    {
     "data": {
      "text/plain": [
       "0.99444444444444446"
      ]
     },
     "execution_count": 95,
     "metadata": {},
     "output_type": "execute_result"
    }
   ],
   "source": [
    "eval_classification(sklearn.neighbors.KNeighborsClassifier())"
   ]
  },
  {
   "cell_type": "code",
   "execution_count": 104,
   "metadata": {
    "collapsed": true
   },
   "outputs": [],
   "source": [
    "net = sklearn.neural_network.MLPClassifier((64, 64), warm_start=True)\n",
    "# for i in range(5): net.fit(X_train, y_train)"
   ]
  },
  {
   "cell_type": "code",
   "execution_count": 105,
   "metadata": {},
   "outputs": [
    {
     "data": {
      "text/plain": [
       "0.9916666666666667"
      ]
     },
     "execution_count": 105,
     "metadata": {},
     "output_type": "execute_result"
    }
   ],
   "source": [
    "eval_classification(net)"
   ]
  },
  {
   "cell_type": "code",
   "execution_count": 110,
   "metadata": {},
   "outputs": [
    {
     "data": {
      "text/plain": [
       "0.9916666666666667"
      ]
     },
     "execution_count": 110,
     "metadata": {},
     "output_type": "execute_result"
    }
   ],
   "source": [
    "for i in range(5): net.fit(X_train, y_train)\n",
    "eval_classification(net)"
   ]
  },
  {
   "cell_type": "code",
   "execution_count": 119,
   "metadata": {},
   "outputs": [
    {
     "data": {
      "text/plain": [
       "<matplotlib.image.AxesImage at 0x1cb78f820b8>"
      ]
     },
     "execution_count": 119,
     "metadata": {},
     "output_type": "execute_result"
    },
    {
     "data": {
      "image/png": "[encoded data removed]",
      "text/plain": [
       "<matplotlib.figure.Figure at 0x1cb78f86a58>"
      ]
     },
     "metadata": {},
     "output_type": "display_data"
    }
   ],
   "source": [
    "conf = sklearn.metrics.confusion_matrix(y_test, logreg.predict(X_test))\n",
    "np.fill_diagonal(conf, 0)\n",
    "plt.matshow(conf, fignum=True)"
   ]
  },
  {
   "cell_type": "code",
   "execution_count": 116,
   "metadata": {},
   "outputs": [
    {
     "data": {
      "text/plain": [
       "array([[46,  0,  0,  0,  0,  0,  0,  0,  0,  0],\n",
       "       [ 0, 33,  0,  2,  0,  0,  0,  0,  2,  0],\n",
       "       [ 0,  0, 34,  1,  0,  0,  0,  0,  0,  0],\n",
       "       [ 0,  0,  1, 33,  0,  0,  0,  0,  1,  0],\n",
       "       [ 0,  0,  0,  0, 34,  0,  0,  0,  0,  0],\n",
       "       [ 0,  0,  0,  0,  0, 35,  0,  0,  0,  1],\n",
       "       [ 0,  0,  0,  0,  0,  0, 38,  0,  1,  0],\n",
       "       [ 0,  0,  0,  0,  0,  0,  0, 35,  1,  0],\n",
       "       [ 0,  1,  0,  0,  0,  0,  0,  0, 27,  0],\n",
       "       [ 1,  0,  0,  1,  0,  0,  0,  1,  1, 30]], dtype=int64)"
      ]
     },
     "execution_count": 116,
     "metadata": {},
     "output_type": "execute_result"
    }
   ],
   "source": [
    "sklearn.metrics.confusion_matrix(y_test, logreg.predict(X_test))"
   ]
  },
  {
   "cell_type": "code",
   "execution_count": 120,
   "metadata": {},
   "outputs": [
    {
     "name": "stdout",
     "output_type": "stream",
     "text": [
      "             precision    recall  f1-score   support\n",
      "\n",
      "          0       0.98      1.00      0.99        46\n",
      "          1       0.97      0.89      0.93        37\n",
      "          2       0.97      0.97      0.97        35\n",
      "          3       0.89      0.94      0.92        35\n",
      "          4       1.00      1.00      1.00        34\n",
      "          5       1.00      0.97      0.99        36\n",
      "          6       1.00      0.97      0.99        39\n",
      "          7       0.97      0.97      0.97        36\n",
      "          8       0.82      0.96      0.89        28\n",
      "          9       0.97      0.88      0.92        34\n",
      "\n",
      "avg / total       0.96      0.96      0.96       360\n",
      "\n"
     ]
    }
   ],
   "source": [
    "print(sklearn.metrics.classification_report(y_test, logreg.predict(X_test)))"
   ]
  },
  {
   "cell_type": "code",
   "execution_count": 3,
   "metadata": {
    "collapsed": true
   },
   "outputs": [],
   "source": [
    "import pandas as pd"
   ]
  },
  {
   "cell_type": "code",
   "execution_count": 4,
   "metadata": {
    "collapsed": true
   },
   "outputs": [],
   "source": [
    "df = pd.read_csv(\"train.csv\").values"
   ]
  },
  {
   "cell_type": "code",
   "execution_count": 5,
   "metadata": {
    "collapsed": true
   },
   "outputs": [],
   "source": [
    "X = df[:, 1:]\n",
    "y = df[:, 0]\n",
    "X_train, X_test, y_train, y_test = train_test_split(X, y, test_size=0.2)"
   ]
  },
  {
   "cell_type": "code",
   "execution_count": 149,
   "metadata": {},
   "outputs": [
    {
     "data": {
      "text/plain": [
       "KNeighborsClassifier(algorithm='auto', leaf_size=30, metric='minkowski',\n",
       "           metric_params=None, n_jobs=1, n_neighbors=5, p=2,\n",
       "           weights='uniform')"
      ]
     },
     "execution_count": 149,
     "metadata": {},
     "output_type": "execute_result"
    }
   ],
   "source": [
    "knn = sklearn.neighbors.KNeighborsClassifier()\n",
    "knn.fit(X_train, y_train)"
   ]
  },
  {
   "cell_type": "code",
   "execution_count": 150,
   "metadata": {
    "collapsed": true
   },
   "outputs": [],
   "source": [
    "y_pred = knn.predict(X_test)"
   ]
  },
  {
   "cell_type": "code",
   "execution_count": 152,
   "metadata": {},
   "outputs": [
    {
     "data": {
      "text/plain": [
       "<matplotlib.image.AxesImage at 0x1cb30d2add8>"
      ]
     },
     "execution_count": 152,
     "metadata": {},
     "output_type": "execute_result"
    },
    {
     "data": {
      "image/png": "[encoded data removed]",
      "text/plain": [
       "<matplotlib.figure.Figure at 0x1cb5a643fd0>"
      ]
     },
     "metadata": {},
     "output_type": "display_data"
    }
   ],
   "source": [
    "conf = sklearn.metrics.confusion_matrix(y_test, y_pred)\n",
    "np.fill_diagonal(conf, 0)\n",
    "plt.matshow(conf, fignum=True, cmap=\"gray\")"
   ]
  },
  {
   "cell_type": "code",
   "execution_count": 155,
   "metadata": {},
   "outputs": [
    {
     "name": "stdout",
     "output_type": "stream",
     "text": [
      "             precision    recall  f1-score   support\n",
      "\n",
      "          0       0.98      0.99      0.98       807\n",
      "          1       0.95      1.00      0.97       958\n",
      "          2       0.97      0.95      0.96       841\n",
      "          3       0.97      0.97      0.97       855\n",
      "          4       0.98      0.97      0.97       819\n",
      "          5       0.96      0.97      0.97       754\n",
      "          6       0.98      0.99      0.98       850\n",
      "          7       0.95      0.96      0.96       857\n",
      "          8       0.99      0.91      0.95       834\n",
      "          9       0.95      0.97      0.96       825\n",
      "\n",
      "avg / total       0.97      0.97      0.97      8400\n",
      "\n"
     ]
    }
   ],
   "source": [
    "print(sklearn.metrics.classification_report(y_test, y_pred))"
   ]
  },
  {
   "cell_type": "code",
   "execution_count": 156,
   "metadata": {
    "collapsed": true
   },
   "outputs": [],
   "source": [
    "net = sklearn.neural_network.MLPClassifier((800, 800), warm_start=True)"
   ]
  },
  {
   "cell_type": "code",
   "execution_count": 85,
   "metadata": {
    "collapsed": true
   },
   "outputs": [],
   "source": [
    "import tensorflow as tf"
   ]
  },
  {
   "cell_type": "code",
   "execution_count": 86,
   "metadata": {},
   "outputs": [
    {
     "name": "stdout",
     "output_type": "stream",
     "text": [
      "INFO:tensorflow:Using default config.\n",
      "WARNING:tensorflow:Using temporary folder as model directory: C:\\Users\\jakub\\AppData\\Local\\Temp\\tmpo6ooag5i\n",
      "INFO:tensorflow:Using config: {'_model_dir': 'C:\\\\Users\\\\jakub\\\\AppData\\\\Local\\\\Temp\\\\tmpo6ooag5i', '_tf_random_seed': None, '_save_summary_steps': 100, '_save_checkpoints_steps': None, '_save_checkpoints_secs': 600, '_session_config': None, '_keep_checkpoint_max': 5, '_keep_checkpoint_every_n_hours': 10000, '_log_step_count_steps': 100, '_service': None, '_cluster_spec': <tensorflow.python.training.server_lib.ClusterSpec object at 0x000002231BCE5080>, '_task_type': 'worker', '_task_id': 0, '_master': '', '_is_chief': True, '_num_ps_replicas': 0, '_num_worker_replicas': 1}\n"
     ]
    }
   ],
   "source": [
    "features = [tf.feature_column.numeric_column(\"pixels\", shape=(784,))]\n",
    "est = tf.estimator.DNNClassifier([800, 800], n_classes=10, feature_columns=features)"
   ]
  },
  {
   "cell_type": "code",
   "execution_count": 88,
   "metadata": {
    "collapsed": true
   },
   "outputs": [],
   "source": [
    "input_fn = tf.estimator.inputs.numpy_input_fn({\"pixels\": X_train_tr}, y_train, shuffle=True,\n",
    "                                          num_epochs=10)"
   ]
  },
  {
   "cell_type": "code",
   "execution_count": 92,
   "metadata": {},
   "outputs": [
    {
     "name": "stdout",
     "output_type": "stream",
     "text": [
      "INFO:tensorflow:Create CheckpointSaverHook.\n",
      "INFO:tensorflow:Restoring parameters from C:\\Users\\jakub\\AppData\\Local\\Temp\\tmpo6ooag5i\\model.ckpt-2625\n",
      "INFO:tensorflow:Saving checkpoints for 2626 into C:\\Users\\jakub\\AppData\\Local\\Temp\\tmpo6ooag5i\\model.ckpt.\n",
      "INFO:tensorflow:loss = 0.498505, step = 2626\n",
      "INFO:tensorflow:global_step/sec: 216.452\n",
      "INFO:tensorflow:loss = 0.336842, step = 2726 (0.463 sec)\n",
      "INFO:tensorflow:global_step/sec: 249.065\n",
      "INFO:tensorflow:loss = 0.1566, step = 2826 (0.402 sec)\n",
      "INFO:tensorflow:global_step/sec: 246.913\n",
      "INFO:tensorflow:loss = 0.28998, step = 2926 (0.407 sec)\n",
      "INFO:tensorflow:global_step/sec: 249.064\n",
      "INFO:tensorflow:loss = 1.34661, step = 3026 (0.399 sec)\n",
      "INFO:tensorflow:global_step/sec: 245.398\n",
      "INFO:tensorflow:loss = 1.22934, step = 3126 (0.408 sec)\n",
      "INFO:tensorflow:global_step/sec: 235.02\n",
      "INFO:tensorflow:loss = 0.234201, step = 3226 (0.425 sec)\n",
      "INFO:tensorflow:global_step/sec: 248.139\n",
      "INFO:tensorflow:loss = 0.0662185, step = 3326 (0.403 sec)\n",
      "INFO:tensorflow:global_step/sec: 245.4\n",
      "INFO:tensorflow:loss = 1.08427, step = 3426 (0.407 sec)\n",
      "INFO:tensorflow:global_step/sec: 235.294\n",
      "INFO:tensorflow:loss = 1.05499, step = 3526 (0.425 sec)\n",
      "INFO:tensorflow:global_step/sec: 240.096\n",
      "INFO:tensorflow:loss = 0.376272, step = 3626 (0.417 sec)\n",
      "INFO:tensorflow:global_step/sec: 235.569\n",
      "INFO:tensorflow:loss = 0.0803736, step = 3726 (0.424 sec)\n",
      "INFO:tensorflow:global_step/sec: 238.949\n",
      "INFO:tensorflow:loss = 0.084842, step = 3826 (0.418 sec)\n",
      "INFO:tensorflow:global_step/sec: 236.685\n",
      "INFO:tensorflow:loss = 0.101973, step = 3926 (0.422 sec)\n",
      "INFO:tensorflow:global_step/sec: 240.675\n",
      "INFO:tensorflow:loss = 0.10555, step = 4026 (0.416 sec)\n",
      "INFO:tensorflow:global_step/sec: 227.791\n",
      "INFO:tensorflow:loss = 0.16411, step = 4126 (0.438 sec)\n",
      "INFO:tensorflow:global_step/sec: 240.965\n",
      "INFO:tensorflow:loss = 0.0611048, step = 4226 (0.416 sec)\n",
      "INFO:tensorflow:global_step/sec: 247.525\n",
      "INFO:tensorflow:loss = 0.17295, step = 4326 (0.404 sec)\n",
      "INFO:tensorflow:global_step/sec: 239.522\n",
      "INFO:tensorflow:loss = 0.0429353, step = 4426 (0.418 sec)\n",
      "INFO:tensorflow:global_step/sec: 241.545\n",
      "INFO:tensorflow:loss = 0.442581, step = 4526 (0.415 sec)\n",
      "INFO:tensorflow:global_step/sec: 237.808\n",
      "INFO:tensorflow:loss = 0.0317541, step = 4626 (0.420 sec)\n",
      "INFO:tensorflow:global_step/sec: 238.099\n",
      "INFO:tensorflow:loss = 0.162827, step = 4726 (0.420 sec)\n",
      "INFO:tensorflow:global_step/sec: 239.235\n",
      "INFO:tensorflow:loss = 0.122515, step = 4826 (0.421 sec)\n",
      "INFO:tensorflow:global_step/sec: 240.964\n",
      "INFO:tensorflow:loss = 0.0918359, step = 4926 (0.412 sec)\n",
      "INFO:tensorflow:global_step/sec: 235.018\n",
      "INFO:tensorflow:loss = 0.0914059, step = 5026 (0.425 sec)\n",
      "INFO:tensorflow:global_step/sec: 242.13\n",
      "INFO:tensorflow:loss = 0.0590033, step = 5126 (0.414 sec)\n",
      "INFO:tensorflow:global_step/sec: 221.239\n",
      "INFO:tensorflow:loss = 0.259024, step = 5226 (0.453 sec)\n",
      "INFO:tensorflow:Saving checkpoints for 5250 into C:\\Users\\jakub\\AppData\\Local\\Temp\\tmpo6ooag5i\\model.ckpt.\n",
      "INFO:tensorflow:Loss for final step: 0.0820504.\n"
     ]
    },
    {
     "data": {
      "text/plain": [
       "<tensorflow.python.estimator.canned.dnn.DNNClassifier at 0x2231bce5128>"
      ]
     },
     "execution_count": 92,
     "metadata": {},
     "output_type": "execute_result"
    }
   ],
   "source": [
    "est.train(input_fn)"
   ]
  },
  {
   "cell_type": "code",
   "execution_count": 90,
   "metadata": {
    "collapsed": true
   },
   "outputs": [],
   "source": [
    "y_pred_tf = est.predict(tf.estimator.inputs.numpy_input_fn({\"pixels\": X_test}, shuffle=False))"
   ]
  },
  {
   "cell_type": "code",
   "execution_count": 93,
   "metadata": {},
   "outputs": [
    {
     "name": "stdout",
     "output_type": "stream",
     "text": [
      "INFO:tensorflow:Starting evaluation at 2018-02-25-08:23:36\n",
      "INFO:tensorflow:Restoring parameters from C:\\Users\\jakub\\AppData\\Local\\Temp\\tmpo6ooag5i\\model.ckpt-5250\n",
      "INFO:tensorflow:Finished evaluation at 2018-02-25-08:23:36\n",
      "INFO:tensorflow:Saving dict for global step 5250: accuracy = 0.918452, average_loss = 25.5894, global_step = 5250, loss = 3256.83\n"
     ]
    },
    {
     "data": {
      "text/plain": [
       "{'accuracy': 0.91845238,\n",
       " 'average_loss': 25.589376,\n",
       " 'global_step': 5250,\n",
       " 'loss': 3256.8298}"
      ]
     },
     "execution_count": 93,
     "metadata": {},
     "output_type": "execute_result"
    }
   ],
   "source": [
    "est.evaluate(tf.estimator.inputs.numpy_input_fn({\"pixels\": X_test}, y_test, shuffle=False))"
   ]
  },
  {
   "cell_type": "code",
   "execution_count": 58,
   "metadata": {
    "collapsed": true
   },
   "outputs": [],
   "source": [
    "from tensorflow.python.keras.layers import Dense, Input, Dropout\n",
    "from tensorflow.python.keras.models import Sequential"
   ]
  },
  {
   "cell_type": "code",
   "execution_count": 101,
   "metadata": {
    "collapsed": true
   },
   "outputs": [],
   "source": [
    "model = Sequential([\n",
    "    Dense(800, input_shape=(784,), activation=\"relu\"),\n",
    "    Dense(800, activation=\"relu\"),\n",
    "    Dense(10, activation=\"softmax\"),\n",
    "])"
   ]
  },
  {
   "cell_type": "code",
   "execution_count": 102,
   "metadata": {
    "collapsed": true
   },
   "outputs": [],
   "source": [
    "model.compile(\"adam\", \"categorical_crossentropy\", metrics=[\"accuracy\"])"
   ]
  },
  {
   "cell_type": "code",
   "execution_count": 110,
   "metadata": {
    "collapsed": true
   },
   "outputs": [],
   "source": [
    "scaler = sklearn.preprocessing.StandardScaler()\n",
    "X_train_tr = scaler.fit_transform(X_train.astype(np.float32))\n",
    "y_train_oh = sklearn.preprocessing.OneHotEncoder().fit_transform(y_train.reshape(-1, 1)).todense()"
   ]
  },
  {
   "cell_type": "code",
   "execution_count": 104,
   "metadata": {},
   "outputs": [
    {
     "name": "stdout",
     "output_type": "stream",
     "text": [
      "Epoch 1/5\n",
      "33600/33600 [==============================]33600/33600 [==============================] - 6s 175us/step - loss: 0.2859 - acc: 0.9218\n",
      "\n",
      "Epoch 2/5\n",
      "33600/33600 [==============================]33600/33600 [==============================] - 6s 165us/step - loss: 0.1653 - acc: 0.9574\n",
      "\n",
      "Epoch 3/5\n",
      "33600/33600 [==============================]33600/33600 [==============================] - 5s 164us/step - loss: 0.1105 - acc: 0.9702\n",
      "\n",
      "Epoch 4/5\n",
      "33600/33600 [==============================]33600/33600 [==============================] - 6s 166us/step - loss: 0.1076 - acc: 0.9736\n",
      "\n",
      "Epoch 5/5\n",
      "33600/33600 [==============================]33600/33600 [==============================] - 6s 165us/step - loss: 0.0893 - acc: 0.9788\n",
      "\n"
     ]
    },
    {
     "data": {
      "text/plain": [
       "<tensorflow.python.keras._impl.keras.callbacks.History at 0x2231e027eb8>"
      ]
     },
     "execution_count": 104,
     "metadata": {},
     "output_type": "execute_result"
    }
   ],
   "source": [
    "model.fit(X_train_tr, y_train_oh, epochs=5)"
   ]
  },
  {
   "cell_type": "code",
   "execution_count": 113,
   "metadata": {
    "collapsed": true
   },
   "outputs": [],
   "source": [
    "y_pred = model.predict_classes(scaler.transform(X_test.astype(np.float32)))"
   ]
  },
  {
   "cell_type": "code",
   "execution_count": 125,
   "metadata": {},
   "outputs": [
    {
     "data": {
      "text/plain": [
       "<matplotlib.image.AxesImage at 0x2231bcc92e8>"
      ]
     },
     "execution_count": 125,
     "metadata": {},
     "output_type": "execute_result"
    },
    {
     "data": {
      "image/png": "[encoded data removed]",
      "text/plain": [
       "<matplotlib.figure.Figure at 0x2231d584a90>"
      ]
     },
     "metadata": {},
     "output_type": "display_data"
    }
   ],
   "source": [
    "conf = sklearn.metrics.confusion_matrix(y_test, y_pred)\n",
    "np.fill_diagonal(conf, 0)\n",
    "conf = sklearn.preprocessing.StandardScaler().fit_transform(conf.astype(np.float32))\n",
    "plt.matshow(conf)"
   ]
  },
  {
   "cell_type": "code",
   "execution_count": 6,
   "metadata": {},
   "outputs": [],
   "source": [
    "from sklearn.manifold import TSNE"
   ]
  },
  {
   "cell_type": "code",
   "execution_count": 9,
   "metadata": {},
   "outputs": [],
   "source": [
    "tsne = TSNE()\n",
    "X_embedding = tsne.fit_transform(X)"
   ]
  },
  {
   "cell_type": "code",
   "execution_count": 10,
   "metadata": {},
   "outputs": [
    {
     "data": {
      "text/plain": [
       "<matplotlib.collections.PathCollection at 0x19cfaff8978>"
      ]
     },
     "execution_count": 10,
     "metadata": {},
     "output_type": "execute_result"
    },
    {
     "data": {
      "image/png": "[encoded data removed]",
      "text/plain": [
       "<matplotlib.figure.Figure at 0x19cfaf006d8>"
      ]
     },
     "metadata": {},
     "output_type": "display_data"
    }
   ],
   "source": [
    "plt.scatter(X_embedding[:,0], X_embedding[:,1], c=y)"
   ]
  },
  {
   "cell_type": "code",
   "execution_count": null,
   "metadata": {
    "collapsed": true
   },
   "outputs": [],
   "source": []
  }
 ],
 "metadata": {
  "kernelspec": {
   "display_name": "Python 3",
   "language": "python",
   "name": "python3"
  },
  "language_info": {
   "codemirror_mode": {
    "name": "ipython",
    "version": 3
   },
   "file_extension": ".py",
   "mimetype": "text/x-python",
   "name": "python",
   "nbconvert_exporter": "python",
   "pygments_lexer": "ipython3",
   "version": "3.6.3"
  }
 },
 "nbformat": 4,
 "nbformat_minor": 2
}
